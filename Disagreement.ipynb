{
 "cells": [
  {
   "cell_type": "code",
   "execution_count": 2,
   "metadata": {},
   "outputs": [],
   "source": [
    "\n",
    "import pandas as pd\n",
    "import os\n",
    "import numpy as np\n",
    "from collections import Counter\n",
    "import pandas as pd\n",
    "from matplotlib import pyplot as plt\n",
    "from matplotlib_venn import venn2\n",
    "from matplotlib_venn import venn3\n",
    "\n"
   ]
  },
  {
   "cell_type": "code",
   "execution_count": 2,
   "metadata": {},
   "outputs": [
    {
     "name": "stdout",
     "output_type": "stream",
     "text": [
      "['Disagreement.ipynb', 'Nueva global_180722.csv', '.ipynb_checkpoints', 'Local-nat-inter_070622_for BSC1.xlsx', 'Local-nat-inter_070622_for BSC1_actualizada.csv', 'Local-nat-inter_070622_for BSC1.csv', 'Global_Table_actualizada.ipynb', 'Nueva global_180722.xlsx', '.~lock.Nueva global_180722.csv#', 'counts.ipynb', 'Nueva global_180722(1).csv', 'Untitled12.ipynb', '.~lock.Local-nat-inter_070622_for BSC1.csv#']\n"
     ]
    }
   ],
   "source": [
    "ruta_actual = os.path.abspath(os.getcwd())\n",
    "print(os.listdir(ruta_actual))\n",
    "\n"
   ]
  },
  {
   "cell_type": "markdown",
   "metadata": {},
   "source": [
    "## Tabla global"
   ]
  },
  {
   "cell_type": "code",
   "execution_count": 5,
   "metadata": {},
   "outputs": [],
   "source": [
    "###Cambiar todos los diagnosticos de International por los diagnosticos de Noux International\n",
    "df = pd.read_csv(\"Local-nat-inter_070622_for BSC1_actualizada.csv\", sep='\\t')\n",
    "df = df.fillna(\"NaN\")\n",
    "df = df.replace(to_replace= 'HCN', value= 'NOS' )\n",
    "df = df.replace(to_replace= 'HCN NOS', value= 'NOS' )\n",
    "\n",
    "df = df.replace(to_replace= 'NOS - DOUBT', value= 'NOS' )\n",
    "\n",
    "\n",
    "df['International'] = np.where(df['Nous DX International Jun 22'] != \"NaN\", df['Nous DX International Jun 22'], df['International'])\n",
    "\n",
    "\n",
    "#Si un diagnostico alternativo coincide con el resto de columnas, se sustituye por el mismo valor \n",
    "df1 = df[['Local','National','International']]\n",
    "df1 = df1.fillna(\"NaN\")\n",
    "for i in range(0, df.shape[0]):\n",
    "    dff = df1.loc[i]\n",
    "    dff_I = dff['International']\n",
    "    dff_L= dff[ 'Local']\n",
    "    dff_N = dff[ 'National']\n",
    "    lista_L = dff['Local'].split(\" \")\n",
    "    lista_I = dff['International'].split(\" \")\n",
    "    lista_N = dff['National'].split(\" \")\n",
    "    if bool(set(lista_L) & set(lista_I) & set(lista_N)) == True :\n",
    "        set_L = set(lista_L)\n",
    "        set_N = set(lista_N)\n",
    "        set_I = set(lista_I)\n",
    "        set1 = set_L.intersection(set_N)\n",
    "        intersection_set = set1.intersection(set_I)\n",
    "        common_value = list(intersection_set)\n",
    "        common_value = ''.join(common_value)\n",
    "        common_value = str(common_value)\n",
    "            \n",
    "    \n",
    "        df1.at[i, 'Local'] = common_value\n",
    "        df1.at[i, 'National'] = common_value\n",
    "        df1.at[i, 'International'] = common_value\n",
    "        \n",
    "df = df[[\"BSC ID\", 'Local','National','International']]\n",
    "df= df.fillna(\"NaN\")\n",
    "df[\"LvsN\"] = \"\"\n",
    "df[\"LvsI\"] = \"\"\n",
    "df[\"NvsI\"] = \"\"\n",
    "df[\"LvsNvsI\"] = \"\"\n",
    "df = df.fillna(\"NaN\")\n",
    "\n",
    "def disagreement(col1,col2, col3):#(col3=columna donde insertar 0,1 o NA)\n",
    "    for i in range (df.shape[0]):\n",
    "        if df1.loc[i][col1] == df1.loc[i][col2] and (df.loc[i][col1] != \"NaN\" or df.loc[i][col2] != \"NaN\"):\n",
    "                df.at[i, col3] = 0\n",
    "        elif df.loc[i][col1] == \"NaN\" or df.loc[i][col2] == \"NaN\":\n",
    "                df.at[i, col3] = \"NA\"\n",
    "        else:\n",
    "            df.at[i, col3] = 1\n",
    "\n",
    "def disagreement3 (col1, col2, col3, col4):#(col4=columna donde insertar 0,1 o NA)\n",
    "    for i in range(df.shape[0]):\n",
    "            if df.loc[i][col1] == \"NaN\" or df.loc[i][col2] == \"NaN\" or df.loc[i][col3] == \"NaN\":\n",
    "                df.at[i, col4] = \"NA\"\n",
    "            elif df.loc[i][col1] != df.loc[i][col2] != df.loc[i][col3]  and df.loc[i][col1] != df.loc[i][col3] and df.loc[i][col1] != \"NaN\" and df.loc[i][col2] != \"NaN\" and df.loc[i][col3] != \"NaN\":\n",
    "                df.at[i, col4] = 1\n",
    "            else:\n",
    "                df.at[i, col4] = 0\n",
    "\n",
    "            \n",
    "\n",
    "\n",
    "disagreement(\"Local\", \"National\", \"LvsN\")\n",
    "disagreement(\"Local\", \"International\", \"LvsI\")\n",
    "disagreement(\"International\", \"National\", \"NvsI\")\n",
    "disagreement3(\"Local\", \"National\", \"International\", \"LvsNvsI\")\n",
    "\n",
    "df.to_clipboard()\n"
   ]
  },
  {
   "cell_type": "code",
   "execution_count": 4,
   "metadata": {},
   "outputs": [],
   "source": [
    "###Cambiar todos los diagnosticos de International por los diagnosticos de Noux International\n",
    "df = pd.read_csv(\"Local-nat-inter_070622_for BSC1_actualizada.csv\", sep='\\t')\n",
    "df = df.fillna(\"NaN\")\n",
    "df = df.replace(to_replace= 'HCN', value= 'NOS' )\n",
    "df = df.replace(to_replace= 'HCN NOS', value= 'NOS' )\n",
    "df = df.replace(to_replace= 'HCN NOS || Other', value= 'NOS || Other' )\n",
    "df = df.replace(to_replace= 'Rhabdo', value= 'Other' )\n",
    "df = df.replace(to_replace= 'Ad', value= 'Other' )\n",
    "df = df.replace(to_replace= 'Not possible', value= 'Other' )\n",
    "df = df.replace(to_replace= 'NOS - DOUBT', value= 'NOS' )\n",
    "\n",
    "\n",
    "df['International'] = np.where(df['Nous DX International Jun 22'] != \"NaN\", df['Nous DX International Jun 22'], df['International'])\n",
    "\n",
    "\n",
    "#Si un diagnostico alternativo coincide con el resto de columnas, se sustituye por el mismo valor \n",
    "df1 = df[['Local','National','International']]\n",
    "df1 = df1.fillna(\"NaN\")\n",
    "for i in range(0, df.shape[0]):\n",
    "    dff = df1.loc[i]\n",
    "    dff_I = dff['International']\n",
    "    dff_L= dff[ 'Local']\n",
    "    dff_N = dff[ 'National']\n",
    "    lista_L = dff['Local'].split(\" \")\n",
    "    lista_I = dff['International'].split(\" \")\n",
    "    lista_N = dff['National'].split(\" \")\n",
    "    if bool(set(lista_L) & set(lista_I) & set(lista_N)) == True :\n",
    "        set_L = set(lista_L)\n",
    "        set_N = set(lista_N)\n",
    "        set_I = set(lista_I)\n",
    "        set1 = set_L.intersection(set_N)\n",
    "        intersection_set = set1.intersection(set_I)\n",
    "        common_value = list(intersection_set)\n",
    "        common_value = ''.join(common_value)\n",
    "        common_value = str(common_value)\n",
    "            \n",
    "    \n",
    "        df1.at[i, 'Local'] = common_value\n",
    "        df1.at[i, 'National'] = common_value\n",
    "        df1.at[i, 'International'] = common_value\n",
    "        \n",
    "df = df[[\"BSC ID\", 'Local','National','International']]\n",
    "df= df.fillna(\"NaN\")\n",
    "df[\"LvsN\"] = \"\"\n",
    "df[\"LvsI\"] = \"\"\n",
    "df[\"NvsI\"] = \"\"\n",
    "df[\"LvsNvsI\"] = \"\"\n",
    "df = df.fillna(\"NaN\")\n",
    "\n",
    "def disagreement(col1,col2, col3):#(col3=columna donde insertar 0,1 o NA)\n",
    "    for i in range (df.shape[0]):\n",
    "        if df1.loc[i][col1] == df1.loc[i][col2] and (df.loc[i][col1] != \"NaN\" or df.loc[i][col2] != \"NaN\"):\n",
    "                df.at[i, col3] = 0\n",
    "        elif df.loc[i][col1] == \"NaN\" or df.loc[i][col2] == \"NaN\":\n",
    "                df.at[i, col3] = \"NA\"\n",
    "        else:\n",
    "            df.at[i, col3] = 1\n",
    "\n",
    "def disagreement3 (col1, col2, col3, col4):#(col4=columna donde insertar 0,1 o NA)\n",
    "    for i in range(df.shape[0]):\n",
    "            if df.loc[i][col1] == \"NaN\" or df.loc[i][col2] == \"NaN\" or df.loc[i][col3] == \"NaN\":\n",
    "                df.at[i, col4] = \"NA\"\n",
    "            elif df.loc[i][col1] != df.loc[i][col2] != df.loc[i][col3]  and df.loc[i][col1] != df.loc[i][col3] and df.loc[i][col1] != \"NaN\" and df.loc[i][col2] != \"NaN\" and df.loc[i][col3] != \"NaN\":\n",
    "                df.at[i, col4] = 1\n",
    "            else:\n",
    "                df.at[i, col4] = 0\n",
    "\n",
    "            \n",
    "\n",
    "\n",
    "disagreement(\"Local\", \"National\", \"LvsN\")\n",
    "disagreement(\"Local\", \"International\", \"LvsI\")\n",
    "disagreement(\"International\", \"National\", \"NvsI\")\n",
    "disagreement3(\"Local\", \"National\", \"International\", \"LvsNvsI\")\n",
    "\n",
    "df.to_clipboard()\n",
    "\n"
   ]
  },
  {
   "cell_type": "markdown",
   "metadata": {},
   "source": [
    "# Grafico Disagreement\n"
   ]
  },
  {
   "cell_type": "markdown",
   "metadata": {},
   "source": [
    "## Grafico sin categoría not possible"
   ]
  },
  {
   "cell_type": "code",
   "execution_count": 5,
   "metadata": {},
   "outputs": [
    {
     "data": {
      "image/png": "[encoded data removed]",
      "text/plain": [
       "<Figure size 432x288 with 1 Axes>"
      ]
     },
     "metadata": {
      "needs_background": "light"
     },
     "output_type": "display_data"
    },
    {
     "name": "stdout",
     "output_type": "stream",
     "text": [
      "     BSC ID        Local National International LvsN LvsI NvsI LvsNvsI\n",
      "0       170           HB       HB            HB    0    0    0       0\n",
      "1       171          HCC      HCC           HCC    0    0    0       0\n",
      "2       172           HB       HB            HB    0    0    0       0\n",
      "3       173  HB || Other       HB            HB    0    0    0       0\n",
      "4       174           HB       HB            HB    0    0    0       0\n",
      "..      ...          ...      ...           ...  ...  ...  ...     ...\n",
      "276     474          HCC      NaN           HCC   NA    0   NA      NA\n",
      "277     475           HB      NaN           NaN   NA   NA   NA      NA\n",
      "278     476          NaN      NaN            HB   NA   NA   NA      NA\n",
      "279     477          NaN      NaN            HB   NA   NA   NA      NA\n",
      "280     478          NaN      NaN            HB   NA   NA   NA      NA\n",
      "\n",
      "[281 rows x 8 columns]\n"
     ]
    }
   ],
   "source": [
    "df_agr = df.loc[:, \"LvsN\":\"LvsNvsI\"]\n",
    "x = []\n",
    "y1 = []\n",
    "y2 = []\n",
    "y3 = []\n",
    "N1 = []\n",
    "N0 = []\n",
    "Nna = []\n",
    "for i in [ \"LvsN\", \"LvsI\", \"NvsI\", \"LvsNvsI\"]:\n",
    "    a = df_agr[i].value_counts()\n",
    "    x.append(i)\n",
    "    suma = a[1] + a[0] \n",
    "    y1.append(a[1]/suma*100)\n",
    "    y2.append(a[0]/suma*100)\n",
    "    N0.append(a[0])\n",
    "    N1.append(a[1])\n",
    "    \n",
    "\n",
    "labels = x\n",
    "zero_per = y2\n",
    "one_per = y1\n",
    "\n",
    "width = 0.50       # the width of the bars: can also be len(x) sequence\n",
    "\n",
    "fig, ax = plt.subplots()\n",
    "\n",
    "    \n",
    "\n",
    "p1 = ax.bar(labels, one_per, width, label='Disagreement', color=\"r\")\n",
    "p2 = ax.bar(labels, zero_per, width,  bottom=one_per, label='Agreement', color=\"y\")\n",
    "\n",
    "ax.set_ylabel('Percentage', )\n",
    "ax.set_title('Disagreement')\n",
    "ax.legend()\n",
    "ax.bar_label(p1, N1,  label_type='center',color=\"w\" )\n",
    "ax.bar_label(p2, N0, label_type='center', color=\"w\")\n",
    "plt.xticks(np.arange(4),(\"L vs N\", \"L vs I\", \"N vs I\", \"L vs N vs I\" ))\n",
    "plt.subplots_adjust(left=0.1, right=0.9, top=5, bottom=2)\n",
    "\n",
    "plt.show()\n",
    "print(df)"
   ]
  },
  {
   "cell_type": "code",
   "execution_count": 6,
   "metadata": {},
   "outputs": [
    {
     "name": "stdout",
     "output_type": "stream",
     "text": [
      "NA    190\n",
      "0      79\n",
      "1      12\n",
      "Name: LvsN, dtype: int64\n",
      "NA    156\n",
      "0     100\n",
      "1      25\n",
      "Name: LvsI, dtype: int64\n",
      "NA    160\n",
      "0     101\n",
      "1      20\n",
      "Name: NvsI, dtype: int64\n",
      "NA    202\n",
      "0      72\n",
      "1       7\n",
      "Name: LvsNvsI, dtype: int64\n"
     ]
    }
   ],
   "source": [
    "print(df[\"LvsN\"].value_counts())\n",
    "print(df[\"LvsI\"].value_counts())\n",
    "print(df[\"NvsI\"].value_counts())\n",
    "print(df[\"LvsNvsI\"].value_counts())\n"
   ]
  },
  {
   "cell_type": "code",
   "execution_count": 7,
   "metadata": {},
   "outputs": [
    {
     "data": {
      "image/png": "[encoded data removed]",
      "text/plain": [
       "<Figure size 432x288 with 1 Axes>"
      ]
     },
     "metadata": {},
     "output_type": "display_data"
    }
   ],
   "source": [
    "venn3(subsets = (338, 338, 9, 338, 16, 17, 1), set_labels = ('Local', 'National', 'International'))\n",
    "plt.savefig(\"VennDiagram.png\")"
   ]
  }
 ],
 "metadata": {
  "kernelspec": {
   "display_name": "Python 3",
   "language": "python",
   "name": "python3"
  },
  "language_info": {
   "codemirror_mode": {
    "name": "ipython",
    "version": 3
   },
   "file_extension": ".py",
   "mimetype": "text/x-python",
   "name": "python",
   "nbconvert_exporter": "python",
   "pygments_lexer": "ipython3",
   "version": "3.8.3"
  }
 },
 "nbformat": 4,
 "nbformat_minor": 2
}
